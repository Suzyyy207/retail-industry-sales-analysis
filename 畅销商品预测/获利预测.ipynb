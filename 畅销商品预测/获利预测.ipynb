{
 "cells": [
  {
   "cell_type": "code",
   "execution_count": 1,
   "id": "8e86dc6f-64e9-4e9b-b909-3b88e1c31f7f",
   "metadata": {
    "tags": []
   },
   "outputs": [],
   "source": [
    "import pandas as pd\n",
    "import numpy as np\n",
    "from math import pi\n",
    "import matplotlib.pyplot as plt\n",
    "import seaborn as sns\n",
    "from xgboost.sklearn import XGBClassifier as XGBC\n",
    "from sklearn.ensemble import RandomForestClassifier\n",
    "from sklearn.preprocessing import StandardScaler\n",
    "from imblearn.over_sampling import SMOTE\n",
    "from sklearn.svm import SVC\n",
    "from sklearn.model_selection import train_test_split,GridSearchCV\n",
    "from sklearn.ensemble import RandomForestClassifier\n",
    "from sklearn.metrics import accuracy_score,roc_curve,roc_auc_score\n",
    "from sklearn.metrics import f1_score, recall_score"
   ]
  },
  {
   "cell_type": "code",
   "execution_count": 21,
   "id": "c8384bc5-70ed-456f-b521-145291d18bfb",
   "metadata": {
    "tags": []
   },
   "outputs": [],
   "source": [
    "raw_df = pd.read_csv('./Data/full_name_with_price_label.csv')"
   ]
  },
  {
   "cell_type": "code",
   "execution_count": 22,
   "id": "54522e56-ac4d-445d-b92e-55290a04d07c",
   "metadata": {
    "tags": []
   },
   "outputs": [],
   "source": [
    "def get_feature(raw_df):\n",
    "    features = []\n",
    "    labels = []\n",
    "    for i in range(len(raw_df['name'])):\n",
    "        feature = []\n",
    "        feature.append(raw_df['maker'][i])\n",
    "        feature.append(raw_df['deliver_time'][i])\n",
    "        feature.append(raw_df['deliver_way'][i])\n",
    "        feature.append(raw_df['discount'][i])\n",
    "        feature.append(raw_df['category'][i])\n",
    "        feature.append(raw_df['sub_category'][i])\n",
    "        feature.append(raw_df['price'][i])\n",
    "        \n",
    "        features.append(feature)\n",
    "        labels.append(raw_df['label'][i])\n",
    "    \n",
    "    return features,labels"
   ]
  },
  {
   "cell_type": "code",
   "execution_count": 23,
   "id": "87dec709-1f6c-4f0e-a3c4-c4120354d2b6",
   "metadata": {
    "tags": []
   },
   "outputs": [],
   "source": [
    "features,labels = get_feature(raw_df)\n",
    "X_train, X_test, y_train, y_test = train_test_split(features, labels, test_size=0.2, random_state=42)\n",
    "\n",
    "scaler = StandardScaler()\n",
    "X_train_scaled = scaler.fit_transform(X_train)\n",
    "X_test_scaled = scaler.transform(X_test)\n",
    "\n",
    "# 使用 SMOTE 进行过采样\n",
    "smote = SMOTE(random_state=42)\n",
    "X_resampled, y_resampled = smote.fit_resample(X_train_scaled, y_train)"
   ]
  },
  {
   "cell_type": "code",
   "execution_count": 24,
   "id": "c3ecf8db-fb42-46b5-94d9-95410cba7b92",
   "metadata": {
    "tags": []
   },
   "outputs": [],
   "source": [
    "def train_xgboost(x_train,x_test,y_train,y_test):\n",
    "    xgb_model = XGBC()\n",
    "    xgb_model.fit(x_train,y_train)\n",
    "\n",
    "    y_pred = xgb_model.predict(x_test)\n",
    "    accuracy = accuracy_score(y_test, y_pred)\n",
    "    print(\"XGBC ACC Score:\", accuracy)\n",
    "    y_pred_prob = xgb_model.predict_proba(x_test)[:, 1] \n",
    "    auc_score = roc_auc_score(y_test, y_pred_prob)\n",
    "    print(\"XGBC AUC Score:\", auc_score)\n",
    "    f1 = f1_score(y_test, y_pred)\n",
    "    print(\"XGBC F1 Score:\", f1)\n",
    "    \n",
    "    return xgb_model\n",
    "    \n",
    "    #print(xgb_model.feature_importances_)"
   ]
  },
  {
   "cell_type": "code",
   "execution_count": 26,
   "id": "c720d80f-6d0b-4040-a2b9-ff6258d98e62",
   "metadata": {
    "tags": []
   },
   "outputs": [
    {
     "name": "stdout",
     "output_type": "stream",
     "text": [
      "original:\n",
      "XGBC ACC Score: 0.7647058823529411\n",
      "XGBC AUC Score: 0.8335516875662862\n",
      "XGBC F1 Score: 0.8408304498269895\n",
      "\n",
      "stand:\n",
      "XGBC ACC Score: 0.7647058823529411\n",
      "XGBC AUC Score: 0.8335516875662862\n",
      "XGBC F1 Score: 0.8408304498269895\n",
      "\n",
      "smote:\n",
      "XGBC ACC Score: 0.7851662404092071\n",
      "XGBC AUC Score: 0.8392288976230582\n",
      "XGBC F1 Score: 0.8510638297872339\n"
     ]
    }
   ],
   "source": [
    "print(\"original:\")\n",
    "train_xgboost(X_train,X_test,y_train,y_test)\n",
    "\n",
    "print(\"\\nstand:\")\n",
    "train_xgboost(X_train_scaled,X_test_scaled,y_train,y_test)\n",
    "\n",
    "print(\"\\nsmote:\")\n",
    "xgb = train_xgboost(X_resampled,X_test_scaled,y_resampled,y_test)"
   ]
  },
  {
   "cell_type": "code",
   "execution_count": 9,
   "id": "ce1d5b30-6d89-4dbf-9abc-c91ea3c36601",
   "metadata": {
    "tags": []
   },
   "outputs": [
    {
     "name": "stdout",
     "output_type": "stream",
     "text": [
      "Best Parameters: {'colsample_bytree': 0.8, 'learning_rate': 0.1, 'max_depth': 9, 'n_estimators': 200, 'subsample': 0.7}\n",
      "Accuracy on the test set: 0.7723785166240409\n",
      "AUC on the test set: 0.8408821511011292\n"
     ]
    }
   ],
   "source": [
    "# 设置XGBoost的参数\n",
    "param_grid = {\n",
    "    'max_depth': [5, 7, 9],\n",
    "    'learning_rate': [0.01,0.1],\n",
    "    'subsample': [0.6, 0.7, 0.8, 0.9],\n",
    "    'colsample_bytree': [0.8, 0.9, 1.0],\n",
    "    'n_estimators': [50, 100, 200]\n",
    "}\n",
    "\n",
    "# 创建XGBoost分类器\n",
    "xgb_model = XGBC()\n",
    "\n",
    "# 使用GridSearchCV进行网格搜索\n",
    "grid_search = GridSearchCV(estimator=xgb_model, param_grid=param_grid, scoring='roc_auc', cv=2)\n",
    "grid_search.fit(X_resampled, y_resampled)\n",
    "\n",
    "# 输出最佳参数\n",
    "print(\"Best Parameters:\", grid_search.best_params_)\n",
    "\n",
    "# 在测试集上评估最佳模型\n",
    "best_model = grid_search.best_estimator_\n",
    "y_pred = best_model.predict(X_test_scaled)\n",
    "accuracy = accuracy_score(y_test, y_pred)\n",
    "print(\"Accuracy on the test set:\", accuracy)\n",
    "y_pred_prob = best_model.predict_proba(X_test_scaled)[:, 1]  # 获取正类别的概率\n",
    "roc_auc = roc_auc_score(y_test, y_pred_prob)\n",
    "print(\"AUC on the test set:\", roc_auc)"
   ]
  },
  {
   "cell_type": "code",
   "execution_count": null,
   "id": "17cfc0ca-b825-434f-9905-05b92616b062",
   "metadata": {},
   "outputs": [],
   "source": []
  }
 ],
 "metadata": {
  "kernelspec": {
   "display_name": "Python 3 (ipykernel)",
   "language": "python",
   "name": "python3"
  },
  "language_info": {
   "codemirror_mode": {
    "name": "ipython",
    "version": 3
   },
   "file_extension": ".py",
   "mimetype": "text/x-python",
   "name": "python",
   "nbconvert_exporter": "python",
   "pygments_lexer": "ipython3",
   "version": "3.11.4"
  }
 },
 "nbformat": 4,
 "nbformat_minor": 5
}
